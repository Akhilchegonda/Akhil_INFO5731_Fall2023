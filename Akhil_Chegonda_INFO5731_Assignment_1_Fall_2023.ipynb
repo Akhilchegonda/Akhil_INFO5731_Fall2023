{
  "cells": [
    {
      "cell_type": "markdown",
      "metadata": {
        "id": "view-in-github",
        "colab_type": "text"
      },
      "source": [
        "<a href=\"https://colab.research.google.com/github/Akhilchegonda/Akhil_INFO5731_Fall2023/blob/main/Akhil_Chegonda_INFO5731_Assignment_1_Fall_2023.ipynb\" target=\"_parent\"><img src=\"https://colab.research.google.com/assets/colab-badge.svg\" alt=\"Open In Colab\"/></a>"
      ]
    },
    {
      "cell_type": "markdown",
      "metadata": {
        "id": "Ryk8D1Q4Wsrp"
      },
      "source": [
        "# **INFO5731 Assignment One**"
      ]
    },
    {
      "cell_type": "markdown",
      "metadata": {
        "id": "90_NR8c5XGWc"
      },
      "source": [
        "# Question 1\n",
        "\n",
        "(20 points). Write a Python program to generate 12 random numbers between 1 and 100. Sort the list of numbers in ascending order and print it out. Sort the list of numbers in descending order and print it out. Calculate the average for the group and print it out."
      ]
    },
    {
      "cell_type": "code",
      "execution_count": null,
      "metadata": {
        "id": "5QX6bJjGWXY9",
        "colab": {
          "base_uri": "https://localhost:8080/"
        },
        "outputId": "36136829-76ad-4d44-9ee0-ccd45d01ca98"
      },
      "outputs": [
        {
          "output_type": "stream",
          "name": "stdout",
          "text": [
            "set_of_12: [89, 15, 91, 82, 88, 12, 58, 59, 89, 98, 98, 67]\n",
            "Ascending_Order: [12, 15, 58, 59, 67, 82, 88, 89, 89, 91, 98, 98]\n",
            "Descending_Order: [98, 98, 91, 89, 89, 88, 82, 67, 59, 58, 15, 12]\n",
            "Average_of_12: 70.5\n"
          ]
        }
      ],
      "source": [
        "# Your code here\n",
        "import random\n",
        "\n",
        "# Generate 12 random numbers\n",
        "set_of_12 = [random.randint(1,100) for i in range(12)]\n",
        "#Ascending Order\n",
        "Ascending_Order = sorted(set_of_12)\n",
        "#Descending Order\n",
        "Descending_Order = sorted(set_of_12,reverse= True)\n",
        "# Average of the Group\n",
        "Average_of_12 = sum(set_of_12)/len(set_of_12)\n",
        "\n",
        "#outputs\n",
        "print('set_of_12:',set_of_12)\n",
        "print(\"Ascending_Order:\",Ascending_Order)\n",
        "print(\"Descending_Order:\",Descending_Order)\n",
        "print(\"Average_of_12:\",Average_of_12)"
      ]
    },
    {
      "cell_type": "markdown",
      "metadata": {
        "id": "1F_PZdH9Sh49"
      },
      "source": [
        "# Question 2\n",
        "(25 points).\n",
        "\n",
        "Write a program that will do the following string formatting tasks:\n",
        "\n",
        "(1) Ask the user to enter two sentences.\n",
        "\n",
        "(2) Make each sentence into a list. Each element in the list should correspond to a word in the sentence. For example, if the sentence is \"Alas! Am I alive? This is my first python program\", the program should print out ['Alas, '!', 'Am', 'I', 'alive, '?', 'This', 'is', 'my', 'first', 'python', 'program'].\n",
        "\n",
        "(3) Compare the two sentences. Print out a list of words that occur in both sentences.\n",
        "\n",
        "(4) Remove any punctuation from the sentence and print it back out. It should remove at least the following characters, but it can remove more: period(“.”), comma (“,”), semicolon (“;”), and colon (“:”)\n",
        "\n",
        "(5) Count the number of vowels in the sentences. Print out each vowel and the number of times it appears in the sentences, such as: a:2, e:1, i:0, etc"
      ]
    },
    {
      "cell_type": "code",
      "source": [
        "import string\n",
        "\n",
        "#Enter two sentence\n",
        "sentence_1 = input(\"Enter the sentence 1:\")\n",
        "sentence_2 = input(\"enter the sentence 2:\")\n",
        "\n",
        "#function to Split the sentence in to list\n",
        "def list_words(sentence):\n",
        "  words = sentence.split()\n",
        "  return words\n",
        "\n",
        "# split the sentence to list\n",
        "words_1 = list_words(sentence_1)\n",
        "words_2 = list_words(sentence_2)\n",
        "#outputs\n",
        "print(\"list of words_1\",words_1)\n",
        "print(\"list of words_2\",words_2)\n"
      ],
      "metadata": {
        "colab": {
          "base_uri": "https://localhost:8080/"
        },
        "id": "vFNqQgU7s9Xo",
        "outputId": "3d878e57-5e5a-4b73-8788-e2f2a203e28f"
      },
      "execution_count": null,
      "outputs": [
        {
          "output_type": "stream",
          "name": "stdout",
          "text": [
            "Enter the sentence 1:University of North Texas ! Welcome .\n",
            "enter the sentence 2:College of Information Science , Computational Methods .\n",
            "list of words_1 ['University', 'of', 'North', 'Texas', '!', 'Welcome', '.']\n",
            "list of words_2 ['College', 'of', 'Information', 'Science', ',', 'Computational', 'Methods', '.']\n"
          ]
        }
      ]
    },
    {
      "cell_type": "code",
      "source": [
        "# compare the string and generate the common words\n",
        "#create Function\n",
        "def to_find_common_words(sentence1,sentence2):\n",
        "  s1 = set(list_words(sentence_1))\n",
        "  s2 = set(list_words(sentence_2))\n",
        "  common_words = list(s1.intersection(s2))\n",
        "  return common_words\n",
        "# common words\n",
        "common_words = to_find_common_words(sentence1,sentence2)\n",
        "print(\"common words in two sentence:\",common_words)\n",
        "\n",
        "# Remove the punctuation from the sentence\n",
        "def remove_punctuation(sentence):\n",
        "  no_punctuation = str.maketrans(\" \",\" \",string.punctuation)\n",
        "  return sentence.translate(no_punctuation)\n",
        "\n",
        "sentence1_without_punctuation = remove_punctuation(sentence_1)\n",
        "sentence2_without_punctuation = remove_punctuation(sentence_2)\n",
        "print(\"sentence1_without_punctuation :\",sentence1_without_punctuation)\n",
        "print(\"sentence2_without_punctuation :\",sentence2_without_punctuation)\n",
        "\n",
        "# Count number vowel in the sentence\n",
        "\n",
        "# create function to count\n",
        "def count_vowels(sentence):\n",
        "    vowels = \"aeiouAEIOU\"\n",
        "    counts = {vowel: 0 for vowel in vowels}\n",
        "    for char in sentence:\n",
        "        if char in counts:\n",
        "          counts[char] += 1\n",
        "          return counts\n",
        "\n",
        "# count\n",
        "counts1 = count_vowels(sentence1)\n",
        "counts2 = count_vowels(sentence2)\n",
        "print(\"Vowel counts in the first sentence:\", counts1)\n",
        "print(\"Vowel counts in the second sentence:\",counts2)\n"
      ],
      "metadata": {
        "colab": {
          "base_uri": "https://localhost:8080/"
        },
        "id": "nbN4tIdrEaXq",
        "outputId": "5ca48187-a2ef-4214-9b2d-c8e5043fdef6"
      },
      "execution_count": null,
      "outputs": [
        {
          "output_type": "stream",
          "name": "stdout",
          "text": [
            "common words in two sentence: ['of', '.']\n",
            "sentence1_without_punctuation : University of North Texas  Welcome \n",
            "sentence2_without_punctuation : College of Information Science  Computational Methods \n",
            "Vowel counts in the first sentence: {'a': 0, 'e': 0, 'i': 0, 'o': 0, 'u': 0, 'A': 0, 'E': 0, 'I': 0, 'O': 0, 'U': 1}\n",
            "Vowel counts in the second sentence: {'a': 0, 'e': 0, 'i': 0, 'o': 1, 'u': 0, 'A': 0, 'E': 0, 'I': 0, 'O': 0, 'U': 0}\n"
          ]
        }
      ]
    },
    {
      "cell_type": "markdown",
      "metadata": {
        "id": "CmFoI4jDS9nx"
      },
      "source": [
        "# Question 3\n",
        "\n",
        "(15 points). The formula that describes the volume V of a sphere with radius r is the following:\n",
        "\n",
        "$ V=\\frac{4}{3}\\ast\\ \\pi\\ast\\ r^3 $\n",
        "\n",
        "Write a program to calculate the value of V when r is in the range of 1–10. Output the result in the following format:\n",
        "\n",
        "\tr\tV\n",
        "\t1\t…\n",
        "\t2\t…\n",
        "\t3\t…\n"
      ]
    },
    {
      "cell_type": "code",
      "source": [
        "import math\n",
        "#calculate the value of \"V\" when \"r\" is in range 1-10\n",
        "for r in range(1,11):\n",
        "  V = (4/3)*math.pi*(r**3)\n",
        "  print(f\"{r}\\t{V:.2f}\")"
      ],
      "metadata": {
        "colab": {
          "base_uri": "https://localhost:8080/"
        },
        "id": "SAJFdITVn4ir",
        "outputId": "3b5f029c-e35e-4f2a-a58a-73837fad2dc8"
      },
      "execution_count": null,
      "outputs": [
        {
          "output_type": "stream",
          "name": "stdout",
          "text": [
            "1\t4.19\n",
            "2\t33.51\n",
            "3\t113.10\n",
            "4\t268.08\n",
            "5\t523.60\n",
            "6\t904.78\n",
            "7\t1436.76\n",
            "8\t2144.66\n",
            "9\t3053.63\n",
            "10\t4188.79\n"
          ]
        }
      ]
    },
    {
      "cell_type": "markdown",
      "metadata": {
        "id": "z3tBE7E-Xn5X"
      },
      "source": [
        "# Question 4\n",
        "\n",
        "(40 points). In the field of Data Science, data is often formatted as a comma-delimited (CSV) file, where each line in a file corresponds to a field's value. Refer to Chapter 9 (p. 106) for more information on comma-delimited files. To answer this question, you will need to download the file [Assignment1_denton_housing.csv](https://raw.githubusercontent.com/unt-iialab/info5731-spring2022/main/assignments/Assignment1_denton_housing.csv) included with this assignment. The file [Assignment1_denton_housing.csv](https://raw.githubusercontent.com/unt-iialab/info5731-spring2022/main/assignments/Assignment1_denton_housing.csv) contains statistics about housing in the city of Denton from 2008 to 2014. Write a program to implement the following questions.\n",
        "\n",
        "(1) (10 pts) Calculate the difference in the number of Occupied Housing Units from year to year and print it. The difference must be calculated for the consecutive years such as 2008-2009, 2009-2010 etc. Finally, print the values in the ascending order.\n",
        "\n",
        "(2) (10 pts) For all the years, calculate the percentage of housing units which are vacant an occupied. Print the results in the following format:\n",
        "\n",
        "Year Vacant Housing Units Occupied Housing Units\n",
        "\n",
        "    2008  30%   70%                          \n",
        "\t2009 ----- -----\n",
        "\t2010 ----- -----\n",
        "    2011 ----- -----\n",
        "\t2012 ----- -----\n",
        "    2013 ----- -----\n",
        "\t2014 ----- -----\n",
        "  \n",
        "  \n",
        "\n",
        "(3) (10 pts) Calculate and print the valued and years in which the highest number of housing units were vacant and occupied. Print the results in the following format:  \n",
        "\n",
        "                              Year\tValue\n",
        "\tVacant Housing Units\t  -----   -----\n",
        "\tOccupied Housing Units\t-----   -----\n",
        "\n",
        "(4) (10 pts) Calculate the harmonic mean of the total housing units and print it out. You can find the information about harmonic mean here: https://ncalculators.com/statistics/harmonic-mean-calculator.htm"
      ]
    },
    {
      "cell_type": "code",
      "source": [
        "# load the file\n",
        "import pandas as pd\n",
        "file = pd.read_csv('/Assignment1_denton_housing.csv')\n",
        "file.head()"
      ],
      "metadata": {
        "colab": {
          "base_uri": "https://localhost:8080/",
          "height": 206
        },
        "id": "SaazMWKvVQ6D",
        "outputId": "50d6fdd1-82d8-44eb-9a3c-bdee5c46a5ba"
      },
      "execution_count": null,
      "outputs": [
        {
          "output_type": "execute_result",
          "data": {
            "text/plain": [
              "   year             title_field  value\n",
              "0  2014     Total Housing Units  49109\n",
              "1  2014    Vacant Housing Units   2814\n",
              "2  2014  Occupied Housing Units  46295\n",
              "3  2013     Total Housing Units  47888\n",
              "4  2013    Vacant Housing Units   4215"
            ],
            "text/html": [
              "\n",
              "  <div id=\"df-41801d9f-c4e6-4d9c-9e19-afe94a2159e8\" class=\"colab-df-container\">\n",
              "    <div>\n",
              "<style scoped>\n",
              "    .dataframe tbody tr th:only-of-type {\n",
              "        vertical-align: middle;\n",
              "    }\n",
              "\n",
              "    .dataframe tbody tr th {\n",
              "        vertical-align: top;\n",
              "    }\n",
              "\n",
              "    .dataframe thead th {\n",
              "        text-align: right;\n",
              "    }\n",
              "</style>\n",
              "<table border=\"1\" class=\"dataframe\">\n",
              "  <thead>\n",
              "    <tr style=\"text-align: right;\">\n",
              "      <th></th>\n",
              "      <th>year</th>\n",
              "      <th>title_field</th>\n",
              "      <th>value</th>\n",
              "    </tr>\n",
              "  </thead>\n",
              "  <tbody>\n",
              "    <tr>\n",
              "      <th>0</th>\n",
              "      <td>2014</td>\n",
              "      <td>Total Housing Units</td>\n",
              "      <td>49109</td>\n",
              "    </tr>\n",
              "    <tr>\n",
              "      <th>1</th>\n",
              "      <td>2014</td>\n",
              "      <td>Vacant Housing Units</td>\n",
              "      <td>2814</td>\n",
              "    </tr>\n",
              "    <tr>\n",
              "      <th>2</th>\n",
              "      <td>2014</td>\n",
              "      <td>Occupied Housing Units</td>\n",
              "      <td>46295</td>\n",
              "    </tr>\n",
              "    <tr>\n",
              "      <th>3</th>\n",
              "      <td>2013</td>\n",
              "      <td>Total Housing Units</td>\n",
              "      <td>47888</td>\n",
              "    </tr>\n",
              "    <tr>\n",
              "      <th>4</th>\n",
              "      <td>2013</td>\n",
              "      <td>Vacant Housing Units</td>\n",
              "      <td>4215</td>\n",
              "    </tr>\n",
              "  </tbody>\n",
              "</table>\n",
              "</div>\n",
              "    <div class=\"colab-df-buttons\">\n",
              "\n",
              "  <div class=\"colab-df-container\">\n",
              "    <button class=\"colab-df-convert\" onclick=\"convertToInteractive('df-41801d9f-c4e6-4d9c-9e19-afe94a2159e8')\"\n",
              "            title=\"Convert this dataframe to an interactive table.\"\n",
              "            style=\"display:none;\">\n",
              "\n",
              "  <svg xmlns=\"http://www.w3.org/2000/svg\" height=\"24px\" viewBox=\"0 -960 960 960\">\n",
              "    <path d=\"M120-120v-720h720v720H120Zm60-500h600v-160H180v160Zm220 220h160v-160H400v160Zm0 220h160v-160H400v160ZM180-400h160v-160H180v160Zm440 0h160v-160H620v160ZM180-180h160v-160H180v160Zm440 0h160v-160H620v160Z\"/>\n",
              "  </svg>\n",
              "    </button>\n",
              "\n",
              "  <style>\n",
              "    .colab-df-container {\n",
              "      display:flex;\n",
              "      gap: 12px;\n",
              "    }\n",
              "\n",
              "    .colab-df-convert {\n",
              "      background-color: #E8F0FE;\n",
              "      border: none;\n",
              "      border-radius: 50%;\n",
              "      cursor: pointer;\n",
              "      display: none;\n",
              "      fill: #1967D2;\n",
              "      height: 32px;\n",
              "      padding: 0 0 0 0;\n",
              "      width: 32px;\n",
              "    }\n",
              "\n",
              "    .colab-df-convert:hover {\n",
              "      background-color: #E2EBFA;\n",
              "      box-shadow: 0px 1px 2px rgba(60, 64, 67, 0.3), 0px 1px 3px 1px rgba(60, 64, 67, 0.15);\n",
              "      fill: #174EA6;\n",
              "    }\n",
              "\n",
              "    .colab-df-buttons div {\n",
              "      margin-bottom: 4px;\n",
              "    }\n",
              "\n",
              "    [theme=dark] .colab-df-convert {\n",
              "      background-color: #3B4455;\n",
              "      fill: #D2E3FC;\n",
              "    }\n",
              "\n",
              "    [theme=dark] .colab-df-convert:hover {\n",
              "      background-color: #434B5C;\n",
              "      box-shadow: 0px 1px 3px 1px rgba(0, 0, 0, 0.15);\n",
              "      filter: drop-shadow(0px 1px 2px rgba(0, 0, 0, 0.3));\n",
              "      fill: #FFFFFF;\n",
              "    }\n",
              "  </style>\n",
              "\n",
              "    <script>\n",
              "      const buttonEl =\n",
              "        document.querySelector('#df-41801d9f-c4e6-4d9c-9e19-afe94a2159e8 button.colab-df-convert');\n",
              "      buttonEl.style.display =\n",
              "        google.colab.kernel.accessAllowed ? 'block' : 'none';\n",
              "\n",
              "      async function convertToInteractive(key) {\n",
              "        const element = document.querySelector('#df-41801d9f-c4e6-4d9c-9e19-afe94a2159e8');\n",
              "        const dataTable =\n",
              "          await google.colab.kernel.invokeFunction('convertToInteractive',\n",
              "                                                    [key], {});\n",
              "        if (!dataTable) return;\n",
              "\n",
              "        const docLinkHtml = 'Like what you see? Visit the ' +\n",
              "          '<a target=\"_blank\" href=https://colab.research.google.com/notebooks/data_table.ipynb>data table notebook</a>'\n",
              "          + ' to learn more about interactive tables.';\n",
              "        element.innerHTML = '';\n",
              "        dataTable['output_type'] = 'display_data';\n",
              "        await google.colab.output.renderOutput(dataTable, element);\n",
              "        const docLink = document.createElement('div');\n",
              "        docLink.innerHTML = docLinkHtml;\n",
              "        element.appendChild(docLink);\n",
              "      }\n",
              "    </script>\n",
              "  </div>\n",
              "\n",
              "\n",
              "<div id=\"df-8939be92-96e6-418e-b26c-d97edae1bcf5\">\n",
              "  <button class=\"colab-df-quickchart\" onclick=\"quickchart('df-8939be92-96e6-418e-b26c-d97edae1bcf5')\"\n",
              "            title=\"Suggest charts.\"\n",
              "            style=\"display:none;\">\n",
              "\n",
              "<svg xmlns=\"http://www.w3.org/2000/svg\" height=\"24px\"viewBox=\"0 0 24 24\"\n",
              "     width=\"24px\">\n",
              "    <g>\n",
              "        <path d=\"M19 3H5c-1.1 0-2 .9-2 2v14c0 1.1.9 2 2 2h14c1.1 0 2-.9 2-2V5c0-1.1-.9-2-2-2zM9 17H7v-7h2v7zm4 0h-2V7h2v10zm4 0h-2v-4h2v4z\"/>\n",
              "    </g>\n",
              "</svg>\n",
              "  </button>\n",
              "\n",
              "<style>\n",
              "  .colab-df-quickchart {\n",
              "      --bg-color: #E8F0FE;\n",
              "      --fill-color: #1967D2;\n",
              "      --hover-bg-color: #E2EBFA;\n",
              "      --hover-fill-color: #174EA6;\n",
              "      --disabled-fill-color: #AAA;\n",
              "      --disabled-bg-color: #DDD;\n",
              "  }\n",
              "\n",
              "  [theme=dark] .colab-df-quickchart {\n",
              "      --bg-color: #3B4455;\n",
              "      --fill-color: #D2E3FC;\n",
              "      --hover-bg-color: #434B5C;\n",
              "      --hover-fill-color: #FFFFFF;\n",
              "      --disabled-bg-color: #3B4455;\n",
              "      --disabled-fill-color: #666;\n",
              "  }\n",
              "\n",
              "  .colab-df-quickchart {\n",
              "    background-color: var(--bg-color);\n",
              "    border: none;\n",
              "    border-radius: 50%;\n",
              "    cursor: pointer;\n",
              "    display: none;\n",
              "    fill: var(--fill-color);\n",
              "    height: 32px;\n",
              "    padding: 0;\n",
              "    width: 32px;\n",
              "  }\n",
              "\n",
              "  .colab-df-quickchart:hover {\n",
              "    background-color: var(--hover-bg-color);\n",
              "    box-shadow: 0 1px 2px rgba(60, 64, 67, 0.3), 0 1px 3px 1px rgba(60, 64, 67, 0.15);\n",
              "    fill: var(--button-hover-fill-color);\n",
              "  }\n",
              "\n",
              "  .colab-df-quickchart-complete:disabled,\n",
              "  .colab-df-quickchart-complete:disabled:hover {\n",
              "    background-color: var(--disabled-bg-color);\n",
              "    fill: var(--disabled-fill-color);\n",
              "    box-shadow: none;\n",
              "  }\n",
              "\n",
              "  .colab-df-spinner {\n",
              "    border: 2px solid var(--fill-color);\n",
              "    border-color: transparent;\n",
              "    border-bottom-color: var(--fill-color);\n",
              "    animation:\n",
              "      spin 1s steps(1) infinite;\n",
              "  }\n",
              "\n",
              "  @keyframes spin {\n",
              "    0% {\n",
              "      border-color: transparent;\n",
              "      border-bottom-color: var(--fill-color);\n",
              "      border-left-color: var(--fill-color);\n",
              "    }\n",
              "    20% {\n",
              "      border-color: transparent;\n",
              "      border-left-color: var(--fill-color);\n",
              "      border-top-color: var(--fill-color);\n",
              "    }\n",
              "    30% {\n",
              "      border-color: transparent;\n",
              "      border-left-color: var(--fill-color);\n",
              "      border-top-color: var(--fill-color);\n",
              "      border-right-color: var(--fill-color);\n",
              "    }\n",
              "    40% {\n",
              "      border-color: transparent;\n",
              "      border-right-color: var(--fill-color);\n",
              "      border-top-color: var(--fill-color);\n",
              "    }\n",
              "    60% {\n",
              "      border-color: transparent;\n",
              "      border-right-color: var(--fill-color);\n",
              "    }\n",
              "    80% {\n",
              "      border-color: transparent;\n",
              "      border-right-color: var(--fill-color);\n",
              "      border-bottom-color: var(--fill-color);\n",
              "    }\n",
              "    90% {\n",
              "      border-color: transparent;\n",
              "      border-bottom-color: var(--fill-color);\n",
              "    }\n",
              "  }\n",
              "</style>\n",
              "\n",
              "  <script>\n",
              "    async function quickchart(key) {\n",
              "      const quickchartButtonEl =\n",
              "        document.querySelector('#' + key + ' button');\n",
              "      quickchartButtonEl.disabled = true;  // To prevent multiple clicks.\n",
              "      quickchartButtonEl.classList.add('colab-df-spinner');\n",
              "      try {\n",
              "        const charts = await google.colab.kernel.invokeFunction(\n",
              "            'suggestCharts', [key], {});\n",
              "      } catch (error) {\n",
              "        console.error('Error during call to suggestCharts:', error);\n",
              "      }\n",
              "      quickchartButtonEl.classList.remove('colab-df-spinner');\n",
              "      quickchartButtonEl.classList.add('colab-df-quickchart-complete');\n",
              "    }\n",
              "    (() => {\n",
              "      let quickchartButtonEl =\n",
              "        document.querySelector('#df-8939be92-96e6-418e-b26c-d97edae1bcf5 button');\n",
              "      quickchartButtonEl.style.display =\n",
              "        google.colab.kernel.accessAllowed ? 'block' : 'none';\n",
              "    })();\n",
              "  </script>\n",
              "</div>\n",
              "    </div>\n",
              "  </div>\n"
            ]
          },
          "metadata": {},
          "execution_count": 29
        }
      ]
    },
    {
      "cell_type": "code",
      "source": [
        "#Year wise housing data collected and mapped accordingly.\n",
        "house_dict={}\n",
        "for j in sorted(list(set(file['year'])))[:-1]:\n",
        "  prev_year = 0\n",
        "  next_year = 0\n",
        "  for col, row in file.iterrows():\n",
        "    if row['year'] == j and row['title_field'] == 'Occupied Housing Units':\n",
        "      prev_year += row['value']\n",
        "    if row['year'] == j+1 and row['title_field'] == 'Occupied Housing Units':\n",
        "      next_year += row['value']\n",
        "  house_dict[str(j)+'-'+str(j+1)] = abs(prev_year - next_year)\n",
        "print(house_dict)"
      ],
      "metadata": {
        "colab": {
          "base_uri": "https://localhost:8080/"
        },
        "id": "1xHl0K9hVsVp",
        "outputId": "eb648f93-f53f-4e89-d18c-6dcb6cf7df5b"
      },
      "execution_count": null,
      "outputs": [
        {
          "output_type": "stream",
          "name": "stdout",
          "text": [
            "{'2008-2009': 795, '2009-2010': 5091, '2010-2011': 303, '2011-2012': 1404, '2012-2013': 1565, '2013-2014': 2622}\n"
          ]
        }
      ]
    },
    {
      "cell_type": "code",
      "source": [
        "#Year wise house count in ascending order printed.\n",
        "sorted_list=sorted(house_dict.values())\n",
        "year_wise_house_data_ascending={}\n",
        "for i in sorted_list:\n",
        "  for k in house_dict.keys():\n",
        "    if(house_dict[k]==i):\n",
        "      year_wise_house_data_ascending[k]=house_dict[k]\n",
        "#Printing the data in ascending order.\n",
        "for key,value in year_wise_house_data_ascending.items():\n",
        "  print(key,\":\",value)"
      ],
      "metadata": {
        "colab": {
          "base_uri": "https://localhost:8080/"
        },
        "id": "5LyG7ry0Wl4X",
        "outputId": "4cf96ec3-f8b9-4b13-b544-69fd71c4ffe9"
      },
      "execution_count": null,
      "outputs": [
        {
          "output_type": "stream",
          "name": "stdout",
          "text": [
            "2010-2011 : 303\n",
            "2008-2009 : 795\n",
            "2011-2012 : 1404\n",
            "2012-2013 : 1565\n",
            "2013-2014 : 2622\n",
            "2009-2010 : 5091\n"
          ]
        }
      ]
    },
    {
      "cell_type": "code",
      "source": [
        "#Using the year column data in sorted order\n",
        "sorted_year_data = sorted(list(set(file['year'])))\n",
        "for temp_year in sorted_year_data:\n",
        "  vacant = 0\n",
        "  year = 0\n",
        "  number_of_houses = 0\n",
        "  occupied_ones = 0\n",
        "  for col, row in file.iterrows():\n",
        "    #Taking the count for total number of houses\n",
        "    if row['year'] == temp_year and row['title_field'] == 'Total Housing Units' :\n",
        "      year = row['year']\n",
        "      number_of_houses = row['value']\n",
        "    #Count for Occupied ones\n",
        "    if row['year'] == temp_year and  row['title_field'] == 'Occupied Housing Units' :\n",
        "      occupied_ones = row['value']\n",
        "    #Count for vacant ones.\n",
        "    if row['year'] == temp_year and  row['title_field'] == 'Vacant Housing Units' :\n",
        "      vacant = row['value']\n",
        "  #Calculating the occupied and vacant percentages and change to int type\n",
        "  percent_occupied = int((occupied_ones / number_of_houses) * 100)\n",
        "  percent_vacant = int((vacant / number_of_houses) * 100)\n",
        "  #Formating the output as per requirement.\n",
        "  print(year,\" \",str(percent_vacant)+'%',\" \",str(percent_occupied)+'%')"
      ],
      "metadata": {
        "colab": {
          "base_uri": "https://localhost:8080/"
        },
        "id": "wdnCNJ9xW3GW",
        "outputId": "6916c1b2-f1d0-4fa8-f274-7862d38de012"
      },
      "execution_count": null,
      "outputs": [
        {
          "output_type": "stream",
          "name": "stdout",
          "text": [
            "2008   10%   89%\n",
            "2009   9%   90%\n",
            "2010   8%   91%\n",
            "2011   9%   90%\n",
            "2012   6%   93%\n",
            "2013   8%   91%\n",
            "2014   5%   94%\n"
          ]
        }
      ]
    },
    {
      "cell_type": "code",
      "source": [
        "number_of_years=0\n",
        "house_vacant_years=0\n",
        "maximim_number_occupied_units=0\n",
        "maximim_number_vacant_units=0\n",
        "sorted_year_data = sorted(list(set(file['year'])))\n",
        "for year_data in sorted_year_data:\n",
        " for column,row in file.iterrows():\n",
        "    if row['year'] == year_data and  row['title_field'] == 'Occupied Housing Units' :\n",
        "      if row['value']>maximim_number_occupied_units:\n",
        "        maximim_number_occupied_units=row['value']\n",
        "        number_of_years=row['year']\n",
        "    if row['year'] == year_data and  row['title_field'] == 'Vacant Housing Units' :\n",
        "      if row['value']>maximim_number_vacant_units:\n",
        "        maximim_number_vacant_units=row['value']\n",
        "        house_vacant_years=row['year']\n",
        "print('                       ', 'year',   'value')\n",
        "print('Occupied Housing Units ' , number_of_years,   maximim_number_occupied_units)\n",
        "print('Vacant Housing Units   ' ,  house_vacant_years , maximim_number_vacant_units)"
      ],
      "metadata": {
        "colab": {
          "base_uri": "https://localhost:8080/"
        },
        "id": "dMAcdEitXNxQ",
        "outputId": "f236f037-bbe6-476b-ef27-c769baf0fc64"
      },
      "execution_count": null,
      "outputs": [
        {
          "output_type": "stream",
          "name": "stdout",
          "text": [
            "                        year value\n",
            "Occupied Housing Units  2014 46295\n",
            "Vacant Housing Units    2008 4483\n"
          ]
        }
      ]
    },
    {
      "cell_type": "code",
      "source": [
        "total_housing = list()\n",
        "for col, row in file.iterrows():\n",
        "  if row['title_field'] == 'Total Housing Units':\n",
        "    total_housing.append(row['value'])\n",
        "total = len(total_housing)\n",
        "d_v = 0\n",
        "for i in total_housing:\n",
        "  d_v += (1/i)\n",
        "print(total/d_v)"
      ],
      "metadata": {
        "colab": {
          "base_uri": "https://localhost:8080/"
        },
        "id": "VurrONbcXkvU",
        "outputId": "326d6dd3-e153-42e3-a643-16470b5abc55"
      },
      "execution_count": null,
      "outputs": [
        {
          "output_type": "stream",
          "name": "stdout",
          "text": [
            "44398.28543969185\n"
          ]
        }
      ]
    }
  ],
  "metadata": {
    "colab": {
      "provenance": [],
      "toc_visible": true,
      "include_colab_link": true
    },
    "kernelspec": {
      "display_name": "Python 3 (ipykernel)",
      "language": "python",
      "name": "python3"
    },
    "language_info": {
      "codemirror_mode": {
        "name": "ipython",
        "version": 3
      },
      "file_extension": ".py",
      "mimetype": "text/x-python",
      "name": "python",
      "nbconvert_exporter": "python",
      "pygments_lexer": "ipython3",
      "version": "3.9.12"
    }
  },
  "nbformat": 4,
  "nbformat_minor": 0
}