{
 "cells": [
  {
   "cell_type": "markdown",
   "metadata": {
    "id": "view-in-github"
   },
   "source": [
    "<a href=\"https://colab.research.google.com/github/unt-iialab/INFO5731_Spring2020/blob/master/In_class_exercise/In_class_exercise_01.ipynb\" target=\"_parent\"><img src=\"https://colab.research.google.com/assets/colab-badge.svg\" alt=\"Open In Colab\"/></a>"
   ]
  },
  {
   "cell_type": "markdown",
   "metadata": {
    "id": "DymRJbxDBCnf"
   },
   "source": [
    "# **The first In-class-exercise (08/30/2023, 40 points in total)**\n",
    "This exercise is due tomorrow 08/31/203 11:59 PM.\n"
   ]
  },
  {
   "cell_type": "markdown",
   "metadata": {
    "id": "FBKvD6O_TY6e"
   },
   "source": [
    "(1) Write a Python program to calculate the area of a rectangle using user-input length and width."
   ]
  },
  {
   "cell_type": "code",
   "execution_count": 2,
   "metadata": {
    "id": "cikVKDXdTbzE"
   },
   "outputs": [
    {
     "name": "stdout",
     "output_type": "stream",
     "text": [
      "3\n",
      "2\n",
      "6.0\n"
     ]
    }
   ],
   "source": [
    "# write your answer here\n",
    "length = float(input())\n",
    "width = float(input())\n",
    "area = length*width\n",
    "print(area)"
   ]
  },
  {
   "cell_type": "markdown",
   "metadata": {
    "id": "E9RqrlwdTfvl"
   },
   "source": [
    "(2) Create a program that takes two numbers from the user and swaps their values without using a temporary variable."
   ]
  },
  {
   "cell_type": "code",
   "execution_count": 6,
   "metadata": {
    "id": "4XvRknixTh1g"
   },
   "outputs": [
    {
     "name": "stdout",
     "output_type": "stream",
     "text": [
      "5\n",
      "9\n",
      "after swap : a :9.0,b:5.0\n"
     ]
    }
   ],
   "source": [
    "# write your answer here\n",
    "\n",
    "a = float(input())\n",
    "b = float(input())\n",
    "\n",
    "def swap(a,b):\n",
    "    a = a+b\n",
    "    b = a-b\n",
    "    a = a-b\n",
    "    return a,b\n",
    "    \n",
    "a,b = swap(a,b)\n",
    "print(f\"after swap : a :{a},b:{b}\")\n"
   ]
  },
  {
   "cell_type": "markdown",
   "metadata": {
    "id": "03jb4GZsBkBS"
   },
   "source": [
    "(3) Write a Python program to calculate the length of a string."
   ]
  },
  {
   "cell_type": "code",
   "execution_count": 52,
   "metadata": {
    "id": "YaGLbSHHB8Ej"
   },
   "outputs": [
    {
     "name": "stdout",
     "output_type": "stream",
     "text": [
      "enter name:Sunny\n",
      "length of string: 5\n"
     ]
    }
   ],
   "source": [
    "# write your answer here\n",
    "\n",
    "s1 = input(\"enter name:\") #\"AKhil Chegonda\"\n",
    "lenght_of_string = len(s1)\n",
    "print(\"length of string:\",lenght_of_string)\n"
   ]
  },
  {
   "cell_type": "markdown",
   "metadata": {
    "id": "jJDe71iLB616"
   },
   "source": [
    "(4) Write a Python program to count the number of characters in a string.\n",
    "\n",
    "Sample String : 'google.com‘,\n",
    "\n",
    "Expected Result : {'o': 3, 'g': 2, '.': 1, 'e': 1, 'l': 1, 'm': 1, 'c': 1}"
   ]
  },
  {
   "cell_type": "code",
   "execution_count": 12,
   "metadata": {
    "id": "MtKskTzbCLaU"
   },
   "outputs": [
    {
     "data": {
      "text/plain": [
       "{'o': 3, 'g': 2, 'm': 1, 'l': 1, 'e': 1, '.': 1, 'c': 1}"
      ]
     },
     "execution_count": 12,
     "metadata": {},
     "output_type": "execute_result"
    }
   ],
   "source": [
    "# write your answer here\n",
    "\n",
    "def check_freq(x):\n",
    "    freq = {}\n",
    "    for c in set(x):\n",
    "       freq[c] = x.count(c)\n",
    "    return freq\n",
    "\n",
    "check_freq(\"google.com\")\n"
   ]
  },
  {
   "cell_type": "markdown",
   "metadata": {
    "id": "55W9AMdXCSpV"
   },
   "source": [
    "(5) Write a Python program to sum all the items in a list."
   ]
  },
  {
   "cell_type": "code",
   "execution_count": 21,
   "metadata": {
    "id": "I57NXsauCec2"
   },
   "outputs": [
    {
     "name": "stdout",
     "output_type": "stream",
     "text": [
      "sum of list 18\n"
     ]
    }
   ],
   "source": [
    "# write your answer here\n",
    "\n",
    "list1 = [2,3,4,9]\n",
    "sum = 0\n",
    "\n",
    "for i in list1:\n",
    "    sum += i\n",
    "\n",
    "print(\"sum of list\",sum)"
   ]
  },
  {
   "cell_type": "markdown",
   "metadata": {
    "id": "4ulBZ6yhCi9F"
   },
   "source": [
    "(6) Write a Python program to get a string from a given string where all occurrences of its first char have been changed to '\\$', except the first char itself.\n",
    "\n",
    "Sample String : 'restart‘,\n",
    "\n",
    "Expected Result : 'resta\\$t'"
   ]
  },
  {
   "cell_type": "code",
   "execution_count": 23,
   "metadata": {
    "id": "Fj0XhwbBCw2o"
   },
   "outputs": [
    {
     "name": "stdout",
     "output_type": "stream",
     "text": [
      "Enter a string: restart\n",
      "The modified string is: resta$t\n"
     ]
    }
   ],
   "source": [
    "# write your answer here\n",
    "def replace_occurrences(input_string):\n",
    "    first_char = input_string[0]\n",
    "    modified_string = first_char + input_string[1:].replace(first_char, '$')\n",
    "    return modified_string\n",
    "\n",
    "\n",
    "user_input = input(\"Enter a string: \")\n",
    "\n",
    "modified_string = replace_occurrences(user_input)\n",
    "\n",
    "print(f\"The modified string is: {modified_string}\")\n"
   ]
  },
  {
   "cell_type": "markdown",
   "metadata": {
    "id": "qVXA3q7ET5JI"
   },
   "source": [
    "(7) Create a program that calculates the factorial of a number using a while loop."
   ]
  },
  {
   "cell_type": "code",
   "execution_count": 24,
   "metadata": {
    "id": "Lbt7R6UkT7BA"
   },
   "outputs": [
    {
     "name": "stdout",
     "output_type": "stream",
     "text": [
      "5\n",
      "factorial of a number: 120\n"
     ]
    }
   ],
   "source": [
    "# write your answer here\n",
    "Given_number = int(input())\n",
    "fact = 1\n",
    "a= Given_number\n",
    "\n",
    "while a >0:\n",
    "    fact *= a\n",
    "    a -= 1\n",
    "print(\"factorial of a number:\",fact)"
   ]
  },
  {
   "cell_type": "markdown",
   "metadata": {
    "id": "6YfbzXMNT--R"
   },
   "source": [
    "(8) Create a program that takes a list of numbers as input and outputs a new list with only the even numbers."
   ]
  },
  {
   "cell_type": "code",
   "execution_count": 49,
   "metadata": {
    "id": "54q7wMQPUAKu"
   },
   "outputs": [
    {
     "name": "stdout",
     "output_type": "stream",
     "text": [
      "[2, 4, 6]\n"
     ]
    }
   ],
   "source": [
    "# write your answer here\n",
    "list = [1,2,4,5,9,6,15, ]\n",
    "new=[]\n",
    "for num in list:\n",
    "    if num%2==0:\n",
    "        new.append(num)\n",
    "        #new=new +[num]\n",
    "        \n",
    "print(new)"
   ]
  },
  {
   "cell_type": "markdown",
   "metadata": {
    "id": "_bIP7s1MCzue"
   },
   "source": [
    "(9) Write a program with python which could accept two parameter a and b to calculate and output the result of S, where\n",
    "\n",
    "$\\ S=3.14*(1+a/b)^3$\n",
    "\n"
   ]
  },
  {
   "cell_type": "code",
   "execution_count": 59,
   "metadata": {
    "id": "w79QilHXD3Mg"
   },
   "outputs": [
    {
     "name": "stdout",
     "output_type": "stream",
     "text": [
      "2 \n",
      "5\n",
      "8.616159999999999\n"
     ]
    }
   ],
   "source": [
    "# write your answer here\n",
    "a = float(input())\n",
    "b = float(input())\n",
    "S = 3.14*((1+(a/b)))**3\n",
    "print( S)"
   ]
  },
  {
   "cell_type": "markdown",
   "metadata": {
    "id": "xCa2bK9aD4Q3"
   },
   "source": [
    "(10) Write a Python program to concatenate following dictionaries to create a new one.\n",
    "\n",
    "Sample Dictionary : dic1={1:10, 2:20}, dic2={3:30, 4:40}, dic3={5:50,6:60},\n",
    "\n",
    "Expected Result : {1: 10, 2: 20, 3: 30, 4: 40, 5: 50, 6: 60}\n"
   ]
  },
  {
   "cell_type": "code",
   "execution_count": 60,
   "metadata": {
    "id": "_z4aLqAbEET1"
   },
   "outputs": [
    {
     "name": "stdout",
     "output_type": "stream",
     "text": [
      "Concatenated dictionary: {1: 10, 2: 20, 3: 30, 4: 40, 5: 50, 6: 60}\n"
     ]
    }
   ],
   "source": [
    "# write your answer here\n",
    "# Sample dictionaries\n",
    "dic1 = {1: 10, 2: 20}\n",
    "dic2 = {3: 30, 4: 40}\n",
    "dic3 = {5: 50, 6: 60}\n",
    "\n",
    "# Create a new dictionary by concatenating the given dictionaries\n",
    "new_dict = {}\n",
    "for d in [dic1, dic2, dic3]:\n",
    "    new_dict.update(d)\n",
    "\n",
    "print(\"Concatenated dictionary:\", new_dict)\n",
    "\n"
   ]
  },
  {
   "cell_type": "markdown",
   "metadata": {
    "id": "bkyZ2xSZUOst"
   },
   "source": [
    "(11) Write a Python function that accepts a tuple of integers and returns the largest and smallest elements."
   ]
  },
  {
   "cell_type": "code",
   "execution_count": 64,
   "metadata": {
    "id": "3FdLRBKOUQEd"
   },
   "outputs": [
    {
     "name": "stdout",
     "output_type": "stream",
     "text": [
      "Smallest element: 2\n",
      "Largest element: 56\n"
     ]
    }
   ],
   "source": [
    "# write your answer here\n",
    "def find_largest_smallest(numbers_tuple):\n",
    "    if not numbers_tuple:\n",
    "        return None, None\n",
    "\n",
    "    smallest = largest = numbers_tuple[0]\n",
    "\n",
    "    for num in numbers_tuple:\n",
    "        if num < smallest:\n",
    "            smallest = num\n",
    "        if num > largest:\n",
    "            largest = num\n",
    "\n",
    "    return smallest, largest\n",
    "\n",
    "\n",
    "input_tuple = (3,34,56,8,2,9,24)\n",
    "\n",
    "smallest, largest = find_largest_smallest(input_tuple)\n",
    "\n",
    "print(f\"Smallest element: {smallest}\")\n",
    "print(f\"Largest element: {largest}\")\n",
    "\n"
   ]
  },
  {
   "cell_type": "markdown",
   "metadata": {
    "id": "O0TVi3gKUTpp"
   },
   "source": [
    "(12) Write a Python program that counts the frequency of each character in a given string and stores it in a dictionary."
   ]
  },
  {
   "cell_type": "code",
   "execution_count": 66,
   "metadata": {
    "id": "lAtfSfZXUU-h"
   },
   "outputs": [
    {
     "name": "stdout",
     "output_type": "stream",
     "text": [
      "Enter a string: university of north texas\n",
      "Character 'u' appears 1 times.\n",
      "Character 'n' appears 2 times.\n",
      "Character 'i' appears 2 times.\n",
      "Character 'v' appears 1 times.\n",
      "Character 'e' appears 2 times.\n",
      "Character 'r' appears 2 times.\n",
      "Character 's' appears 2 times.\n",
      "Character 't' appears 3 times.\n",
      "Character 'y' appears 1 times.\n",
      "Character ' ' appears 3 times.\n",
      "Character 'o' appears 2 times.\n",
      "Character 'f' appears 1 times.\n",
      "Character 'h' appears 1 times.\n",
      "Character 'x' appears 1 times.\n",
      "Character 'a' appears 1 times.\n"
     ]
    }
   ],
   "source": [
    "# write your answer here\n",
    "def count_character_frequency(input_string):\n",
    "    char_frequency = {}\n",
    "\n",
    "    for char in input_string:\n",
    "        if char in char_frequency:\n",
    "            char_frequency[char] += 1\n",
    "        else:\n",
    "            char_frequency[char] = 1\n",
    "\n",
    "    return char_frequency\n",
    "\n",
    "\n",
    "user_input = input(\"Enter a string: \")\n",
    "\n",
    "\n",
    "frequency_dict = count_character_frequency(user_input)\n",
    "\n",
    "\n",
    "for char, count in frequency_dict.items():\n",
    "    print(f\"Character '{char}' appears {count} times.\")\n"
   ]
  },
  {
   "cell_type": "markdown",
   "metadata": {
    "id": "0v48Vqa7FrQh"
   },
   "source": [
    "(13) Write a Python program to check whether an element exists within a tuple."
   ]
  },
  {
   "cell_type": "code",
   "execution_count": 67,
   "metadata": {
    "id": "7WEmgq-DF2P1"
   },
   "outputs": [
    {
     "name": "stdout",
     "output_type": "stream",
     "text": [
      "Enter an element to check: 25\n",
      "The element 25 does not exist in the tuple.\n"
     ]
    }
   ],
   "source": [
    "# write your answer here\n",
    "def check_element_in_tuple(element, target_tuple):\n",
    "    return element in target_tuple\n",
    "\n",
    "example_tuple = (10, 20, 30, 40, 50)\n",
    "\n",
    "\n",
    "user_input = int(input(\"Enter an element to check: \"))\n",
    "\n",
    "\n",
    "exists = check_element_in_tuple(user_input, example_tuple)\n",
    "\n",
    "if exists:\n",
    "    print(f\"The element {user_input} exists in the tuple.\")\n",
    "else:\n",
    "    print(f\"The element {user_input} does not exist in the tuple.\")\n"
   ]
  },
  {
   "cell_type": "code",
   "execution_count": 68,
   "metadata": {},
   "outputs": [
    {
     "name": "stdout",
     "output_type": "stream",
     "text": [
      "Enter an element to check: 20\n",
      "The element 20 exists in the tuple.\n"
     ]
    }
   ],
   "source": [
    "def check_element_in_tuple(element, target_tuple):\n",
    "    return element in target_tuple\n",
    "\n",
    "example_tuple = (10, 20, 30, 40, 50)\n",
    "\n",
    "\n",
    "user_input = int(input(\"Enter an element to check: \"))\n",
    "\n",
    "\n",
    "exists = check_element_in_tuple(user_input, example_tuple)\n",
    "\n",
    "if exists:\n",
    "    print(f\"The element {user_input} exists in the tuple.\")\n",
    "else:\n",
    "    print(f\"The element {user_input} does not exist in the tuple.\")\n"
   ]
  },
  {
   "cell_type": "markdown",
   "metadata": {
    "id": "vD5PYLMuGga_"
   },
   "source": [
    "(14) Write a Python program to find maximum and the minimum value in a set."
   ]
  },
  {
   "cell_type": "code",
   "execution_count": 70,
   "metadata": {
    "id": "t0D5kdJUGjjw"
   },
   "outputs": [
    {
     "name": "stdout",
     "output_type": "stream",
     "text": [
      "Maximum value in the set: 45\n",
      "Minimum value in the set: 5\n"
     ]
    }
   ],
   "source": [
    "# write your answer here\n",
    "def find_max_min_in_set(input_set):\n",
    "    if not input_set:\n",
    "        return None, None\n",
    "\n",
    "    max_value = max(input_set)\n",
    "    min_value = min(input_set)\n",
    "    return max_value, min_value\n",
    "\n",
    "\n",
    "example_set = {15, 30, 10, 45, 5}\n",
    "\n",
    "max_value, min_value = find_max_min_in_set(example_set)\n",
    "\n",
    "print(f\"Maximum value in the set: {max_value}\")\n",
    "print(f\"Minimum value in the set: {min_value}\")\n"
   ]
  },
  {
   "cell_type": "markdown",
   "metadata": {
    "id": "uHkd-y5VhVWC"
   },
   "source": [
    "(15) Write a Python program to randomly divide the students in this class into six groups for term projects, each group should have at least 4 students but no more than 6 students (including 6). Here is the students list:\n",
    "student_list_fall_2023=['sb1826' ,\n",
    " 'lb0582' ,\n",
    " 'ab1820' ,\n",
    " 'sb1883' ,\n",
    " 'mb1296' ,\n",
    " 'sc1622' ,\n",
    " 'tc0469' ,\n",
    " 'ac1770' ,\n",
    " 'mc1453' ,\n",
    " 'ad1187' ,\n",
    " 'sd0926' ,\n",
    " 'sd1268' ,\n",
    " 'ag1609' ,\n",
    " 'sg1638' ,\n",
    " 'mg1299' ,\n",
    " 'vkk0022' ,\n",
    " 'bk0413' ,\n",
    " 'gk0257' ,\n",
    " 'am2807' ,\n",
    " 'gm0558' ,\n",
    " 'pm0658' ,\n",
    " 'am2346' ,\n",
    " 'rm1090' ,\n",
    " 'sm2364' ,\n",
    " 'sm2747' ,\n",
    " 'sm2343' ,\n",
    " 'vm0597' ,\n",
    " 'htn0086' ,\n",
    " 'sp2075' ,\n",
    " 'gp0306' ,\n",
    " 'lp0502' ,\n",
    " 'sr1508' ,\n",
    " 'vr0331' ,\n",
    " 'yr0180' ,\n",
    " 'as2819' ,\n",
    " 'ss2981' ,\n",
    " 'ns0756' ,\n",
    " 'mt0825' ,\n",
    " 'dt0463' ,\n",
    " 'su0137' ,\n",
    " 'dv0310'\n",
    "]"
   ]
  },
  {
   "cell_type": "code",
   "execution_count": 94,
   "metadata": {
    "id": "3iGbmcOBhTwy"
   },
   "outputs": [
    {
     "name": "stdout",
     "output_type": "stream",
     "text": [
      "Group 1: ['ab1820', 'bk0413', 'sm2747', 'vkk0022']\n",
      "Group 2: ['dv0310', 'htn0086', 'sd0926', 'ac1770']\n",
      "Group 3: ['lp0502', 'sc1622', 'ns0756', 'vr0331']\n",
      "Group 4: ['sg1638', 'vm0597', 'mc1453', 'ad1187']\n",
      "Group 5: ['gm0558', 'su0137', 'yr0180', 'dt0463']\n",
      "Group 6: ['sm2364', 'am2346', 'ss2981', 'sr1508']\n",
      "Group 7: ['gp0306', 'sp2075', 'mb1296', 'sd1268']\n",
      "Group 8: ['mg1299', 'as2819', 'sb1883', 'rm1090']\n",
      "Group 9: ['sb1826', 'mt0825', 'pm0658', 'tc0469']\n",
      "Group 10: ['lb0582', 'ag1609', 'gk0257', 'am2807']\n",
      "Group 11: ['sm2343']\n"
     ]
    }
   ],
   "source": [
    "# write your answer here\n",
    "import random\n",
    "\n",
    "# List of students\n",
    "student_list_fall_2023 = ['sb1826', 'lb0582', 'ab1820', 'sb1883', 'mb1296', 'sc1622', \n",
    "                          'tc0469', 'ac1770', 'mc1453', 'ad1187', 'sd0926', 'sd1268', \n",
    "                          'ag1609', 'sg1638', 'mg1299', 'vkk0022', 'bk0413', 'gk0257',\n",
    "                          'am2807', 'gm0558', 'pm0658', 'am2346', 'rm1090', 'sm2364', \n",
    "                          'sm2747', 'sm2343', 'vm0597', 'htn0086', 'sp2075', 'gp0306',\n",
    "                          'lp0502', 'sr1508', 'vr0331', 'yr0180', 'as2819', 'ss2981', \n",
    "                          'ns0756', 'mt0825', 'dt0463', 'su0137', 'dv0310']\n",
    "\n",
    "# Shuffle the student list\n",
    "random.shuffle(student_list_fall_2023)\n",
    "\n",
    "groups = [student_list_fall_2023[i:i+4] for i in range(0, len(student_list_fall_2023), 4)]\n",
    "\n",
    "# Display the groups\n",
    "for i, group in enumerate(groups, start=1):\n",
    "    print(f\"Group {i}: {group}\")\n"
   ]
  },
  {
   "cell_type": "markdown",
   "metadata": {
    "id": "fmZ9vX20Qs3d"
   },
   "source": [
    "(16) Write a Python program to find the duplicate elements in a given array of integers. Return -1 If there are no such elements."
   ]
  },
  {
   "cell_type": "code",
   "execution_count": 76,
   "metadata": {
    "id": "W8Jw6sWMQs3d"
   },
   "outputs": [
    {
     "name": "stdout",
     "output_type": "stream",
     "text": [
      "Enter integers separated by spaces: 2 3 3 4 5 1 2 2 5 \n",
      "Duplicate elements: {2, 3, 5}\n"
     ]
    }
   ],
   "source": [
    "# write your answer here\n",
    "# Get input from the user\n",
    "user_input = input(\"Enter integers separated by spaces: \")\n",
    "input_array = [int(num) for num in user_input.split()]\n",
    "\n",
    "duplicate_set = set()\n",
    "unique_set = set()\n",
    "\n",
    "for num in input_array:\n",
    "    if num in unique_set:\n",
    "        duplicate_set.add(num)\n",
    "    else:\n",
    "        unique_set.add(num)\n",
    "\n",
    "if not duplicate_set:\n",
    "    print(\"No duplicate elements found.\")\n",
    "else:\n",
    "    print(\"Duplicate elements:\", duplicate_set)\n",
    "\n",
    "\n"
   ]
  },
  {
   "cell_type": "markdown",
   "metadata": {
    "id": "hvq4APMhQs3d"
   },
   "source": [
    "(17) Write a Python program to select all the Sundays of a specified year."
   ]
  },
  {
   "cell_type": "code",
   "execution_count": 78,
   "metadata": {
    "id": "ZnoxhSglQs3d"
   },
   "outputs": [
    {
     "name": "stdout",
     "output_type": "stream",
     "text": [
      "Enter a year: 2023\n",
      "Sunday: 2023-01-01\n",
      "Sunday: 2023-01-08\n",
      "Sunday: 2023-01-15\n",
      "Sunday: 2023-01-22\n",
      "Sunday: 2023-01-29\n",
      "Sunday: 2023-02-05\n",
      "Sunday: 2023-02-12\n",
      "Sunday: 2023-02-19\n",
      "Sunday: 2023-02-26\n",
      "Sunday: 2023-03-05\n",
      "Sunday: 2023-03-12\n",
      "Sunday: 2023-03-19\n",
      "Sunday: 2023-03-26\n",
      "Sunday: 2023-04-02\n",
      "Sunday: 2023-04-09\n",
      "Sunday: 2023-04-16\n",
      "Sunday: 2023-04-23\n",
      "Sunday: 2023-04-30\n",
      "Sunday: 2023-05-07\n",
      "Sunday: 2023-05-14\n",
      "Sunday: 2023-05-21\n",
      "Sunday: 2023-05-28\n",
      "Sunday: 2023-06-04\n",
      "Sunday: 2023-06-11\n",
      "Sunday: 2023-06-18\n",
      "Sunday: 2023-06-25\n",
      "Sunday: 2023-07-02\n",
      "Sunday: 2023-07-09\n",
      "Sunday: 2023-07-16\n",
      "Sunday: 2023-07-23\n",
      "Sunday: 2023-07-30\n",
      "Sunday: 2023-08-06\n",
      "Sunday: 2023-08-13\n",
      "Sunday: 2023-08-20\n",
      "Sunday: 2023-08-27\n",
      "Sunday: 2023-09-03\n",
      "Sunday: 2023-09-10\n",
      "Sunday: 2023-09-17\n",
      "Sunday: 2023-09-24\n",
      "Sunday: 2023-10-01\n",
      "Sunday: 2023-10-08\n",
      "Sunday: 2023-10-15\n",
      "Sunday: 2023-10-22\n",
      "Sunday: 2023-10-29\n",
      "Sunday: 2023-11-05\n",
      "Sunday: 2023-11-12\n",
      "Sunday: 2023-11-19\n",
      "Sunday: 2023-11-26\n",
      "Sunday: 2023-12-03\n",
      "Sunday: 2023-12-10\n",
      "Sunday: 2023-12-17\n",
      "Sunday: 2023-12-24\n",
      "Sunday: 2023-12-31\n"
     ]
    }
   ],
   "source": [
    "# write your answer here\n",
    "import calendar\n",
    "\n",
    "def find_sundays(year):\n",
    "    sundays = []\n",
    "\n",
    "    for month in range(1, 13):\n",
    "        for day in range(1, calendar.monthrange(year, month)[1] + 1):\n",
    "            if calendar.weekday(year, month, day) == calendar.SUNDAY:\n",
    "                sundays.append((year, month, day))\n",
    "\n",
    "    return sundays\n",
    "\n",
    "\n",
    "year = int(input(\"Enter a year: \"))\n",
    "\n",
    "sundays = find_sundays(year)\n",
    "if sundays:\n",
    "    for sunday in sundays:\n",
    "        print(f\"Sunday: {sunday[0]}-{sunday[1]:02d}-{sunday[2]:02d}\")\n",
    "else:\n",
    "    print(\"No Sundays found in the specified year.\")\n",
    "\n"
   ]
  },
  {
   "cell_type": "markdown",
   "metadata": {
    "id": "55FWoSJPVVM6"
   },
   "source": [
    "(18) Build a program that calculates the factorial of a given positive integer. The factorial of a non-negative integer n is the product of all positive integers less than or equal to n."
   ]
  },
  {
   "cell_type": "code",
   "execution_count": 84,
   "metadata": {
    "id": "hwtr1wZmVX5A"
   },
   "outputs": [
    {
     "name": "stdout",
     "output_type": "stream",
     "text": [
      "Enter a positive integer: 10\n",
      "The factorial of 10 is: 3628800\n"
     ]
    }
   ],
   "source": [
    "# write your answer here\n",
    "def calculate_factorial(n):\n",
    "    if n == 0 or n == 1:\n",
    "        return 1\n",
    "    else:\n",
    "        return n * calculate_factorial(n - 1)\n",
    "\n",
    "n = int(input(\"Enter a positive integer: \"))\n",
    "\n",
    "if n < 0:\n",
    "    print(\"Factorial is not defined for negative integers.\")\n",
    "else:\n",
    "    factorial = calculate_factorial(n)\n",
    "    print(f\"The factorial of {n} is: {factorial}\")\n"
   ]
  },
  {
   "cell_type": "markdown",
   "metadata": {
    "id": "Q9ecagcaVazW"
   },
   "source": [
    "(19) Write a program that takes a positive integer n as input and prints the count of even numbers from 1 to n. Use a loop to iterate through the numbers and utilize the break statement to optimize the loop."
   ]
  },
  {
   "cell_type": "code",
   "execution_count": 81,
   "metadata": {
    "id": "gycgckoAVZjR"
   },
   "outputs": [
    {
     "name": "stdout",
     "output_type": "stream",
     "text": [
      "Enter a positive integer: 25\n",
      "The count of even numbers from 1 to 25 is: 12\n"
     ]
    }
   ],
   "source": [
    "# write your answer here\n",
    "def count_even_numbers(n):\n",
    "    count = 0\n",
    "    for num in range(1, n + 1):\n",
    "        if num % 2 == 0:\n",
    "            count += 1\n",
    "        elif num > n:  # Optimization using break\n",
    "            break\n",
    "    return count\n",
    "\n",
    "\n",
    "n = int(input(\"Enter a positive integer: \"))\n",
    "\n",
    "if n <= 0:\n",
    "    print(\"Please enter a positive integer.\")\n",
    "else:\n",
    "    even_count = count_even_numbers(n)\n",
    "    print(f\"The count of even numbers from 1 to {n} is: {even_count}\")\n"
   ]
  },
  {
   "cell_type": "markdown",
   "metadata": {
    "id": "cboAr5pEWUf5"
   },
   "source": [
    "(20) Write a Python function called count_vowels that takes a string as input and returns the count of vowels (both lowercase and uppercase) present in the string. Consider the vowels to be 'a', 'e', 'i', 'o', and 'u'. Ignore spaces and other non-alphabetic characters."
   ]
  },
  {
   "cell_type": "code",
   "execution_count": 82,
   "metadata": {
    "id": "phs9gciMWWAW"
   },
   "outputs": [
    {
     "name": "stdout",
     "output_type": "stream",
     "text": [
      "Enter a string: kaushal sen\n",
      "The count of vowels in the string is: 4\n"
     ]
    }
   ],
   "source": [
    "# write your answer here\n",
    "def count_vowels(input_string):\n",
    "    vowels = \"aeiouAEIOU\"\n",
    "    vowel_count = 0\n",
    "    \n",
    "    for char in input_string:\n",
    "        if char in vowels:\n",
    "            vowel_count += 1\n",
    "    \n",
    "    return vowel_count\n",
    "\n",
    "user_input = input(\"Enter a string: \")\n",
    "\n",
    "vowel_count = count_vowels(user_input)\n",
    "print(f\"The count of vowels in the string is: {vowel_count}\")\n"
   ]
  }
 ],
 "metadata": {
  "colab": {
   "provenance": []
  },
  "kernelspec": {
   "display_name": "Python 3 (ipykernel)",
   "language": "python",
   "name": "python3"
  },
  "language_info": {
   "codemirror_mode": {
    "name": "ipython",
    "version": 3
   },
   "file_extension": ".py",
   "mimetype": "text/x-python",
   "name": "python",
   "nbconvert_exporter": "python",
   "pygments_lexer": "ipython3",
   "version": "3.9.12"
  }
 },
 "nbformat": 4,
 "nbformat_minor": 1
}
